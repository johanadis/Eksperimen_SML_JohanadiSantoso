{
 "cells": [
  {
   "cell_type": "markdown",
   "metadata": {
    "id": "kZLRMFl0JyyQ"
   },
   "source": [
    "# **1. Perkenalan Dataset**\n"
   ]
  },
  {
   "cell_type": "markdown",
   "metadata": {
    "id": "hssSDn-5n3HR"
   },
   "source": [
    "Tahap pertama, Anda harus mencari dan menggunakan dataset dengan ketentuan sebagai berikut:\n",
    "\n",
    "1. **Sumber Dataset**:  \n",
    "   Dataset yang digunakan adalah \"Extrovert vs Introvert Behavior Data\" dari Kaggle. Dataset ini berisi data perilaku yang dapat digunakan untuk memprediksi apakah seseorang adalah ekstrovert atau introvert. Tujuan analisis ini adalah untuk memahami pola perilaku dan membangun model prediksi.\n",
    "   \n",
    "   Link Dataset: https://www.kaggle.com/datasets/rakeshkapilavai/extrovert-vs-introvert-behavior-data/data\n",
    "\n",
    "   <br>\n",
    "2. **Deskripsi Kolom**:\n",
    "\n",
    "\n",
    "| **Nama Kolom**              | **Deskripsi**                                                                          | **Tipe Data** | **Range / Kategori**  |\n",
    "| --------------------------- | -------------------------------------------------------------------------------------- | ------------- | --------------------- |\n",
    "| `Time_spent_Alone`          | Jumlah jam yang dihabiskan sendirian setiap hari.                                      | Numerik       | 0 – 11             |\n",
    "| `Stage_fear`                | Apakah memiliki rasa takut tampil di depan umum.                                       | Kategorikal   | Yes / No              |\n",
    "| `Social_event_attendance`   | Frekuensi menghadiri acara sosial (per minggu atau periode tertentu).                  | Numerik       | 0 – 10                |\n",
    "| `Going_outside`             | Frekuensi pergi keluar rumah dalam seminggu.                                           | Numerik       | 0 – 7                 |\n",
    "| `Drained_after_socializing` | Apakah merasa lelah setelah berinteraksi sosial.                                       | Kategorikal   | Yes / No              |\n",
    "| `Friends_circle_size`       | Jumlah teman dekat atau lingkaran pertemanan inti.                                     | Numerik       | 0 – 15                |\n",
    "| `Post_frequency`            | Frekuensi posting di media sosial (per minggu atau bulan, tergantung konteks dataset). | Numerik       | 0 – 10                |\n",
    "| `Personality`               | Label kepribadian target untuk klasifikasi.                                            | Kategorikal   | Extrovert / Introvert |\n",
    "\n"
   ]
  },
  {
   "cell_type": "markdown",
   "metadata": {
    "id": "fKADPWcFKlj3"
   },
   "source": [
    "# **2. Import Library**"
   ]
  },
  {
   "cell_type": "markdown",
   "metadata": {
    "id": "LgA3ERnVn84N"
   },
   "source": [
    "Pada tahap ini, Anda perlu mengimpor beberapa pustaka (library) Python yang dibutuhkan untuk analisis data dan pembangunan model machine learning atau deep learning."
   ]
  },
  {
   "cell_type": "code",
   "execution_count": 1,
   "metadata": {
    "executionInfo": {
     "elapsed": 5,
     "status": "ok",
     "timestamp": 1749404779339,
     "user": {
      "displayName": "johanadi santoso",
      "userId": "06181911375280010083"
     },
     "user_tz": -420
    },
    "id": "BlmvjLY9M4Yj"
   },
   "outputs": [],
   "source": [
    "import pandas as pd\n",
    "import numpy as np\n",
    "import matplotlib.pyplot as plt\n",
    "import seaborn as sns\n",
    "from sklearn.impute import SimpleImputer\n",
    "from sklearn.preprocessing import StandardScaler"
   ]
  },
  {
   "cell_type": "markdown",
   "metadata": {
    "id": "f3YIEnAFKrKL"
   },
   "source": [
    "# **3. Memuat Dataset**"
   ]
  },
  {
   "cell_type": "markdown",
   "metadata": {
    "id": "Ey3ItwTen_7E"
   },
   "source": [
    "Pada tahap ini, Anda perlu memuat dataset ke dalam notebook. Jika dataset dalam format CSV, Anda bisa menggunakan pustaka pandas untuk membacanya. Pastikan untuk mengecek beberapa baris awal dataset untuk memahami strukturnya dan memastikan data telah dimuat dengan benar.\n",
    "\n",
    "Jika dataset berada di Google Drive, pastikan Anda menghubungkan Google Drive ke Colab terlebih dahulu. Setelah dataset berhasil dimuat, langkah berikutnya adalah memeriksa kesesuaian data dan siap untuk dianalisis lebih lanjut.\n",
    "\n",
    "Jika dataset berupa unstructured data, silakan sesuaikan dengan format seperti kelas Machine Learning Pengembangan atau Machine Learning Terapan"
   ]
  },
  {
   "cell_type": "markdown",
   "metadata": {},
   "source": [
    "###  Membaca Dataset Personality dari file CSV ke DataFrame Pandas"
   ]
  },
  {
   "cell_type": "code",
   "execution_count": 2,
   "metadata": {
    "executionInfo": {
     "elapsed": 4,
     "status": "ok",
     "timestamp": 1749404779341,
     "user": {
      "displayName": "johanadi santoso",
      "userId": "06181911375280010083"
     },
     "user_tz": -420
    },
    "id": "yc-Cj3BTlUnq"
   },
   "outputs": [],
   "source": [
    "df = pd.read_csv('../personality_dataset.csv')"
   ]
  },
  {
   "cell_type": "markdown",
   "metadata": {
    "id": "nbl9ucoRlmh_"
   },
   "source": [
    "### Menampilkan 5 baris teratas pada dataset\n"
   ]
  },
  {
   "cell_type": "code",
   "execution_count": 3,
   "metadata": {
    "colab": {
     "base_uri": "https://localhost:8080/",
     "height": 206
    },
    "executionInfo": {
     "elapsed": 41,
     "status": "ok",
     "timestamp": 1749404779395,
     "user": {
      "displayName": "johanadi santoso",
      "userId": "06181911375280010083"
     },
     "user_tz": -420
    },
    "id": "GHCGNTyrM5fS",
    "outputId": "d36d24d1-b5b0-49f6-c184-c7b105c2d789"
   },
   "outputs": [
    {
     "data": {
      "application/vnd.microsoft.datawrangler.viewer.v0+json": {
       "columns": [
        {
         "name": "index",
         "rawType": "int64",
         "type": "integer"
        },
        {
         "name": "Time_spent_Alone",
         "rawType": "float64",
         "type": "float"
        },
        {
         "name": "Stage_fear",
         "rawType": "object",
         "type": "string"
        },
        {
         "name": "Social_event_attendance",
         "rawType": "float64",
         "type": "float"
        },
        {
         "name": "Going_outside",
         "rawType": "float64",
         "type": "float"
        },
        {
         "name": "Drained_after_socializing",
         "rawType": "object",
         "type": "string"
        },
        {
         "name": "Friends_circle_size",
         "rawType": "float64",
         "type": "float"
        },
        {
         "name": "Post_frequency",
         "rawType": "float64",
         "type": "float"
        },
        {
         "name": "Personality",
         "rawType": "object",
         "type": "string"
        }
       ],
       "ref": "47d54bcd-9cd9-4f47-a6a2-a202055bba8d",
       "rows": [
        [
         "0",
         "4.0",
         "No",
         "4.0",
         "6.0",
         "No",
         "13.0",
         "5.0",
         "Extrovert"
        ],
        [
         "1",
         "9.0",
         "Yes",
         "0.0",
         "0.0",
         "Yes",
         "0.0",
         "3.0",
         "Introvert"
        ],
        [
         "2",
         "9.0",
         "Yes",
         "1.0",
         "2.0",
         "Yes",
         "5.0",
         "2.0",
         "Introvert"
        ],
        [
         "3",
         "0.0",
         "No",
         "6.0",
         "7.0",
         "No",
         "14.0",
         "8.0",
         "Extrovert"
        ],
        [
         "4",
         "3.0",
         "No",
         "9.0",
         "4.0",
         "No",
         "8.0",
         "5.0",
         "Extrovert"
        ]
       ],
       "shape": {
        "columns": 8,
        "rows": 5
       }
      },
      "text/html": [
       "<div>\n",
       "<style scoped>\n",
       "    .dataframe tbody tr th:only-of-type {\n",
       "        vertical-align: middle;\n",
       "    }\n",
       "\n",
       "    .dataframe tbody tr th {\n",
       "        vertical-align: top;\n",
       "    }\n",
       "\n",
       "    .dataframe thead th {\n",
       "        text-align: right;\n",
       "    }\n",
       "</style>\n",
       "<table border=\"1\" class=\"dataframe\">\n",
       "  <thead>\n",
       "    <tr style=\"text-align: right;\">\n",
       "      <th></th>\n",
       "      <th>Time_spent_Alone</th>\n",
       "      <th>Stage_fear</th>\n",
       "      <th>Social_event_attendance</th>\n",
       "      <th>Going_outside</th>\n",
       "      <th>Drained_after_socializing</th>\n",
       "      <th>Friends_circle_size</th>\n",
       "      <th>Post_frequency</th>\n",
       "      <th>Personality</th>\n",
       "    </tr>\n",
       "  </thead>\n",
       "  <tbody>\n",
       "    <tr>\n",
       "      <th>0</th>\n",
       "      <td>4.0</td>\n",
       "      <td>No</td>\n",
       "      <td>4.0</td>\n",
       "      <td>6.0</td>\n",
       "      <td>No</td>\n",
       "      <td>13.0</td>\n",
       "      <td>5.0</td>\n",
       "      <td>Extrovert</td>\n",
       "    </tr>\n",
       "    <tr>\n",
       "      <th>1</th>\n",
       "      <td>9.0</td>\n",
       "      <td>Yes</td>\n",
       "      <td>0.0</td>\n",
       "      <td>0.0</td>\n",
       "      <td>Yes</td>\n",
       "      <td>0.0</td>\n",
       "      <td>3.0</td>\n",
       "      <td>Introvert</td>\n",
       "    </tr>\n",
       "    <tr>\n",
       "      <th>2</th>\n",
       "      <td>9.0</td>\n",
       "      <td>Yes</td>\n",
       "      <td>1.0</td>\n",
       "      <td>2.0</td>\n",
       "      <td>Yes</td>\n",
       "      <td>5.0</td>\n",
       "      <td>2.0</td>\n",
       "      <td>Introvert</td>\n",
       "    </tr>\n",
       "    <tr>\n",
       "      <th>3</th>\n",
       "      <td>0.0</td>\n",
       "      <td>No</td>\n",
       "      <td>6.0</td>\n",
       "      <td>7.0</td>\n",
       "      <td>No</td>\n",
       "      <td>14.0</td>\n",
       "      <td>8.0</td>\n",
       "      <td>Extrovert</td>\n",
       "    </tr>\n",
       "    <tr>\n",
       "      <th>4</th>\n",
       "      <td>3.0</td>\n",
       "      <td>No</td>\n",
       "      <td>9.0</td>\n",
       "      <td>4.0</td>\n",
       "      <td>No</td>\n",
       "      <td>8.0</td>\n",
       "      <td>5.0</td>\n",
       "      <td>Extrovert</td>\n",
       "    </tr>\n",
       "  </tbody>\n",
       "</table>\n",
       "</div>"
      ],
      "text/plain": [
       "   Time_spent_Alone Stage_fear  Social_event_attendance  Going_outside  \\\n",
       "0               4.0         No                      4.0            6.0   \n",
       "1               9.0        Yes                      0.0            0.0   \n",
       "2               9.0        Yes                      1.0            2.0   \n",
       "3               0.0         No                      6.0            7.0   \n",
       "4               3.0         No                      9.0            4.0   \n",
       "\n",
       "  Drained_after_socializing  Friends_circle_size  Post_frequency Personality  \n",
       "0                        No                 13.0             5.0   Extrovert  \n",
       "1                       Yes                  0.0             3.0   Introvert  \n",
       "2                       Yes                  5.0             2.0   Introvert  \n",
       "3                        No                 14.0             8.0   Extrovert  \n",
       "4                        No                  8.0             5.0   Extrovert  "
      ]
     },
     "execution_count": 3,
     "metadata": {},
     "output_type": "execute_result"
    }
   ],
   "source": [
    "df.head()"
   ]
  },
  {
   "cell_type": "markdown",
   "metadata": {
    "id": "bgZkbJLpK9UR"
   },
   "source": [
    "# **4. Exploratory Data Analysis (EDA)**\n",
    "\n",
    "Pada tahap ini, Anda akan melakukan **Exploratory Data Analysis (EDA)** untuk memahami karakteristik dataset.\n",
    "\n",
    "Tujuan dari EDA adalah untuk memperoleh wawasan awal yang mendalam mengenai data dan menentukan langkah selanjutnya dalam analisis atau pemodelan."
   ]
  },
  {
   "cell_type": "markdown",
   "metadata": {},
   "source": [
    "### Menghitung jumlah baris dan kolom pada dataset"
   ]
  },
  {
   "cell_type": "code",
   "execution_count": 4,
   "metadata": {},
   "outputs": [
    {
     "name": "stdout",
     "output_type": "stream",
     "text": [
      "Jumlah baris (data): 2900\n",
      "Jumlah kolom (fitur): 8\n"
     ]
    }
   ],
   "source": [
    "print(f\"Jumlah baris (data): {df.shape[0]}\")\n",
    "print(f\"Jumlah kolom (fitur): {df.shape[1]}\")"
   ]
  },
  {
   "cell_type": "markdown",
   "metadata": {},
   "source": [
    "### Menampilkan Informasi Dataset"
   ]
  },
  {
   "cell_type": "code",
   "execution_count": 5,
   "metadata": {
    "colab": {
     "base_uri": "https://localhost:8080/"
    },
    "executionInfo": {
     "elapsed": 36,
     "status": "ok",
     "timestamp": 1749404779446,
     "user": {
      "displayName": "johanadi santoso",
      "userId": "06181911375280010083"
     },
     "user_tz": -420
    },
    "id": "dKeejtvxM6X1",
    "outputId": "aabb5b2c-410c-4555-9917-c66245e82d4f"
   },
   "outputs": [
    {
     "name": "stdout",
     "output_type": "stream",
     "text": [
      "Informasi Dataset:\n",
      "<class 'pandas.core.frame.DataFrame'>\n",
      "RangeIndex: 2900 entries, 0 to 2899\n",
      "Data columns (total 8 columns):\n",
      " #   Column                     Non-Null Count  Dtype  \n",
      "---  ------                     --------------  -----  \n",
      " 0   Time_spent_Alone           2837 non-null   float64\n",
      " 1   Stage_fear                 2827 non-null   object \n",
      " 2   Social_event_attendance    2838 non-null   float64\n",
      " 3   Going_outside              2834 non-null   float64\n",
      " 4   Drained_after_socializing  2848 non-null   object \n",
      " 5   Friends_circle_size        2823 non-null   float64\n",
      " 6   Post_frequency             2835 non-null   float64\n",
      " 7   Personality                2900 non-null   object \n",
      "dtypes: float64(5), object(3)\n",
      "memory usage: 181.4+ KB\n"
     ]
    }
   ],
   "source": [
    "print(\"Informasi Dataset:\")\n",
    "df.info()"
   ]
  },
  {
   "cell_type": "markdown",
   "metadata": {},
   "source": [
    "### Mengecek jumlah data duplikat"
   ]
  },
  {
   "cell_type": "code",
   "execution_count": 6,
   "metadata": {},
   "outputs": [
    {
     "name": "stdout",
     "output_type": "stream",
     "text": [
      "Jumlah data duplikat: 388\n"
     ]
    },
    {
     "data": {
      "application/vnd.microsoft.datawrangler.viewer.v0+json": {
       "columns": [
        {
         "name": "index",
         "rawType": "int64",
         "type": "integer"
        },
        {
         "name": "Time_spent_Alone",
         "rawType": "float64",
         "type": "float"
        },
        {
         "name": "Stage_fear",
         "rawType": "object",
         "type": "string"
        },
        {
         "name": "Social_event_attendance",
         "rawType": "float64",
         "type": "float"
        },
        {
         "name": "Going_outside",
         "rawType": "float64",
         "type": "float"
        },
        {
         "name": "Drained_after_socializing",
         "rawType": "object",
         "type": "unknown"
        },
        {
         "name": "Friends_circle_size",
         "rawType": "float64",
         "type": "float"
        },
        {
         "name": "Post_frequency",
         "rawType": "float64",
         "type": "float"
        },
        {
         "name": "Personality",
         "rawType": "object",
         "type": "string"
        }
       ],
       "ref": "a4999c88-3340-45eb-8b01-665384945a1b",
       "rows": [
        [
         "2",
         "9.0",
         "Yes",
         "1.0",
         "2.0",
         "Yes",
         "5.0",
         "2.0",
         "Introvert"
        ],
        [
         "3",
         "0.0",
         "No",
         "6.0",
         "7.0",
         "No",
         "14.0",
         "8.0",
         "Extrovert"
        ],
        [
         "13",
         "3.0",
         "No",
         "6.0",
         "4.0",
         "No",
         "10.0",
         "7.0",
         "Extrovert"
        ],
        [
         "20",
         "10.0",
         "Yes",
         "3.0",
         "1.0",
         "Yes",
         "2.0",
         "1.0",
         "Introvert"
        ],
        [
         "23",
         "9.0",
         "Yes",
         "2.0",
         "2.0",
         "Yes",
         "1.0",
         "0.0",
         "Introvert"
        ],
        [
         "38",
         "10.0",
         "Yes",
         "1.0",
         "2.0",
         "Yes",
         "2.0",
         "0.0",
         "Introvert"
        ],
        [
         "43",
         "6.0",
         "Yes",
         "2.0",
         "2.0",
         "Yes",
         "2.0",
         "1.0",
         "Introvert"
        ],
        [
         "47",
         "10.0",
         "Yes",
         "1.0",
         "2.0",
         "Yes",
         "2.0",
         "0.0",
         "Introvert"
        ],
        [
         "52",
         "9.0",
         "Yes",
         "0.0",
         "2.0",
         "Yes",
         "3.0",
         "2.0",
         "Introvert"
        ],
        [
         "53",
         "8.0",
         "Yes",
         "3.0",
         "1.0",
         "Yes",
         "1.0",
         "2.0",
         "Introvert"
        ],
        [
         "73",
         "8.0",
         "Yes",
         "0.0",
         "1.0",
         "Yes",
         "0.0",
         "2.0",
         "Introvert"
        ],
        [
         "74",
         "10.0",
         "Yes",
         "2.0",
         "0.0",
         "Yes",
         "3.0",
         "1.0",
         "Introvert"
        ],
        [
         "76",
         "6.0",
         "Yes",
         "1.0",
         "2.0",
         "Yes",
         "5.0",
         "0.0",
         "Introvert"
        ],
        [
         "78",
         "8.0",
         "Yes",
         "0.0",
         "1.0",
         "Yes",
         "5.0",
         "0.0",
         "Introvert"
        ],
        [
         "80",
         "5.0",
         "Yes",
         "2.0",
         "0.0",
         "Yes",
         "2.0",
         "0.0",
         "Introvert"
        ],
        [
         "99",
         "8.0",
         "Yes",
         "1.0",
         "0.0",
         "Yes",
         "4.0",
         "2.0",
         "Introvert"
        ],
        [
         "125",
         null,
         "Yes",
         "3.0",
         "0.0",
         "Yes",
         "2.0",
         "1.0",
         "Introvert"
        ],
        [
         "137",
         "9.0",
         "Yes",
         "3.0",
         "2.0",
         "Yes",
         "3.0",
         "2.0",
         "Introvert"
        ],
        [
         "138",
         "6.0",
         "Yes",
         "3.0",
         "2.0",
         "Yes",
         "1.0",
         "1.0",
         "Introvert"
        ],
        [
         "148",
         "0.0",
         "No",
         "6.0",
         "7.0",
         "No",
         "8.0",
         "7.0",
         "Extrovert"
        ],
        [
         "168",
         "1.0",
         "No",
         "5.0",
         "7.0",
         "No",
         "9.0",
         "7.0",
         "Extrovert"
        ],
        [
         "183",
         "7.0",
         "Yes",
         "0.0",
         "2.0",
         "Yes",
         "3.0",
         "2.0",
         "Introvert"
        ],
        [
         "186",
         "9.0",
         "Yes",
         "2.0",
         "0.0",
         "Yes",
         "2.0",
         "1.0",
         "Introvert"
        ],
        [
         "188",
         "7.0",
         "Yes",
         "2.0",
         "1.0",
         "Yes",
         "1.0",
         "2.0",
         "Introvert"
        ],
        [
         "198",
         "10.0",
         "Yes",
         "0.0",
         "0.0",
         "Yes",
         "3.0",
         "0.0",
         "Introvert"
        ],
        [
         "200",
         "7.0",
         "Yes",
         "0.0",
         "2.0",
         "Yes",
         "3.0",
         "0.0",
         "Introvert"
        ],
        [
         "201",
         "8.0",
         "Yes",
         "2.0",
         "1.0",
         "Yes",
         "3.0",
         "2.0",
         "Introvert"
        ],
        [
         "203",
         "8.0",
         "Yes",
         "1.0",
         "1.0",
         "Yes",
         "2.0",
         "1.0",
         "Introvert"
        ],
        [
         "204",
         "7.0",
         "Yes",
         "0.0",
         "0.0",
         "Yes",
         "2.0",
         "1.0",
         "Introvert"
        ],
        [
         "206",
         "5.0",
         "Yes",
         "2.0",
         "1.0",
         "Yes",
         "2.0",
         "2.0",
         "Introvert"
        ],
        [
         "208",
         "8.0",
         "Yes",
         "2.0",
         "2.0",
         "Yes",
         "1.0",
         "0.0",
         "Introvert"
        ],
        [
         "212",
         "9.0",
         "Yes",
         "0.0",
         "1.0",
         "Yes",
         "2.0",
         "1.0",
         "Introvert"
        ],
        [
         "213",
         "9.0",
         "Yes",
         "1.0",
         "1.0",
         "Yes",
         "2.0",
         "0.0",
         "Introvert"
        ],
        [
         "216",
         "7.0",
         "Yes",
         "0.0",
         "1.0",
         "Yes",
         "1.0",
         "0.0",
         "Introvert"
        ],
        [
         "217",
         "5.0",
         "Yes",
         "2.0",
         "0.0",
         "Yes",
         "2.0",
         "0.0",
         "Introvert"
        ],
        [
         "218",
         "7.0",
         "Yes",
         "0.0",
         "0.0",
         "Yes",
         "1.0",
         "2.0",
         "Introvert"
        ],
        [
         "222",
         "5.0",
         "Yes",
         "2.0",
         "1.0",
         "Yes",
         "1.0",
         "2.0",
         "Introvert"
        ],
        [
         "223",
         "4.0",
         "Yes",
         "1.0",
         "0.0",
         "Yes",
         "3.0",
         "2.0",
         "Introvert"
        ],
        [
         "224",
         "9.0",
         "Yes",
         "0.0",
         "2.0",
         "Yes",
         "2.0",
         "2.0",
         "Introvert"
        ],
        [
         "227",
         "9.0",
         "Yes",
         "2.0",
         "2.0",
         "Yes",
         "1.0",
         "2.0",
         "Introvert"
        ],
        [
         "228",
         "5.0",
         "Yes",
         "1.0",
         "0.0",
         "Yes",
         "3.0",
         "2.0",
         "Introvert"
        ],
        [
         "229",
         "4.0",
         "Yes",
         "0.0",
         "1.0",
         "Yes",
         "1.0",
         "2.0",
         "Introvert"
        ],
        [
         "231",
         "6.0",
         "Yes",
         "2.0",
         "1.0",
         "Yes",
         "2.0",
         "1.0",
         "Introvert"
        ],
        [
         "234",
         "7.0",
         "Yes",
         "0.0",
         "2.0",
         "Yes",
         "2.0",
         "0.0",
         "Introvert"
        ],
        [
         "236",
         "7.0",
         "Yes",
         "0.0",
         "0.0",
         "Yes",
         "3.0",
         "2.0",
         "Introvert"
        ],
        [
         "237",
         "9.0",
         "Yes",
         "2.0",
         "0.0",
         "Yes",
         "2.0",
         "0.0",
         "Introvert"
        ],
        [
         "238",
         "4.0",
         "Yes",
         "2.0",
         "1.0",
         "Yes",
         "3.0",
         "2.0",
         "Introvert"
        ],
        [
         "239",
         "9.0",
         "Yes",
         "0.0",
         "0.0",
         "Yes",
         "2.0",
         "0.0",
         "Introvert"
        ],
        [
         "244",
         "5.0",
         "Yes",
         "0.0",
         "1.0",
         "Yes",
         "2.0",
         "2.0",
         "Introvert"
        ],
        [
         "245",
         "7.0",
         "Yes",
         "2.0",
         "2.0",
         "Yes",
         "3.0",
         "0.0",
         "Introvert"
        ]
       ],
       "shape": {
        "columns": 8,
        "rows": 703
       }
      },
      "text/html": [
       "<div>\n",
       "<style scoped>\n",
       "    .dataframe tbody tr th:only-of-type {\n",
       "        vertical-align: middle;\n",
       "    }\n",
       "\n",
       "    .dataframe tbody tr th {\n",
       "        vertical-align: top;\n",
       "    }\n",
       "\n",
       "    .dataframe thead th {\n",
       "        text-align: right;\n",
       "    }\n",
       "</style>\n",
       "<table border=\"1\" class=\"dataframe\">\n",
       "  <thead>\n",
       "    <tr style=\"text-align: right;\">\n",
       "      <th></th>\n",
       "      <th>Time_spent_Alone</th>\n",
       "      <th>Stage_fear</th>\n",
       "      <th>Social_event_attendance</th>\n",
       "      <th>Going_outside</th>\n",
       "      <th>Drained_after_socializing</th>\n",
       "      <th>Friends_circle_size</th>\n",
       "      <th>Post_frequency</th>\n",
       "      <th>Personality</th>\n",
       "    </tr>\n",
       "  </thead>\n",
       "  <tbody>\n",
       "    <tr>\n",
       "      <th>2</th>\n",
       "      <td>9.0</td>\n",
       "      <td>Yes</td>\n",
       "      <td>1.0</td>\n",
       "      <td>2.0</td>\n",
       "      <td>Yes</td>\n",
       "      <td>5.0</td>\n",
       "      <td>2.0</td>\n",
       "      <td>Introvert</td>\n",
       "    </tr>\n",
       "    <tr>\n",
       "      <th>3</th>\n",
       "      <td>0.0</td>\n",
       "      <td>No</td>\n",
       "      <td>6.0</td>\n",
       "      <td>7.0</td>\n",
       "      <td>No</td>\n",
       "      <td>14.0</td>\n",
       "      <td>8.0</td>\n",
       "      <td>Extrovert</td>\n",
       "    </tr>\n",
       "    <tr>\n",
       "      <th>13</th>\n",
       "      <td>3.0</td>\n",
       "      <td>No</td>\n",
       "      <td>6.0</td>\n",
       "      <td>4.0</td>\n",
       "      <td>No</td>\n",
       "      <td>10.0</td>\n",
       "      <td>7.0</td>\n",
       "      <td>Extrovert</td>\n",
       "    </tr>\n",
       "    <tr>\n",
       "      <th>20</th>\n",
       "      <td>10.0</td>\n",
       "      <td>Yes</td>\n",
       "      <td>3.0</td>\n",
       "      <td>1.0</td>\n",
       "      <td>Yes</td>\n",
       "      <td>2.0</td>\n",
       "      <td>1.0</td>\n",
       "      <td>Introvert</td>\n",
       "    </tr>\n",
       "    <tr>\n",
       "      <th>23</th>\n",
       "      <td>9.0</td>\n",
       "      <td>Yes</td>\n",
       "      <td>2.0</td>\n",
       "      <td>2.0</td>\n",
       "      <td>Yes</td>\n",
       "      <td>1.0</td>\n",
       "      <td>0.0</td>\n",
       "      <td>Introvert</td>\n",
       "    </tr>\n",
       "    <tr>\n",
       "      <th>...</th>\n",
       "      <td>...</td>\n",
       "      <td>...</td>\n",
       "      <td>...</td>\n",
       "      <td>...</td>\n",
       "      <td>...</td>\n",
       "      <td>...</td>\n",
       "      <td>...</td>\n",
       "      <td>...</td>\n",
       "    </tr>\n",
       "    <tr>\n",
       "      <th>2884</th>\n",
       "      <td>11.0</td>\n",
       "      <td>Yes</td>\n",
       "      <td>0.0</td>\n",
       "      <td>2.0</td>\n",
       "      <td>Yes</td>\n",
       "      <td>3.0</td>\n",
       "      <td>1.0</td>\n",
       "      <td>Introvert</td>\n",
       "    </tr>\n",
       "    <tr>\n",
       "      <th>2890</th>\n",
       "      <td>8.0</td>\n",
       "      <td>Yes</td>\n",
       "      <td>2.0</td>\n",
       "      <td>0.0</td>\n",
       "      <td>Yes</td>\n",
       "      <td>1.0</td>\n",
       "      <td>2.0</td>\n",
       "      <td>Introvert</td>\n",
       "    </tr>\n",
       "    <tr>\n",
       "      <th>2891</th>\n",
       "      <td>6.0</td>\n",
       "      <td>Yes</td>\n",
       "      <td>3.0</td>\n",
       "      <td>1.0</td>\n",
       "      <td>Yes</td>\n",
       "      <td>5.0</td>\n",
       "      <td>1.0</td>\n",
       "      <td>Introvert</td>\n",
       "    </tr>\n",
       "    <tr>\n",
       "      <th>2892</th>\n",
       "      <td>9.0</td>\n",
       "      <td>Yes</td>\n",
       "      <td>2.0</td>\n",
       "      <td>0.0</td>\n",
       "      <td>Yes</td>\n",
       "      <td>1.0</td>\n",
       "      <td>2.0</td>\n",
       "      <td>Introvert</td>\n",
       "    </tr>\n",
       "    <tr>\n",
       "      <th>2895</th>\n",
       "      <td>3.0</td>\n",
       "      <td>No</td>\n",
       "      <td>7.0</td>\n",
       "      <td>6.0</td>\n",
       "      <td>No</td>\n",
       "      <td>6.0</td>\n",
       "      <td>6.0</td>\n",
       "      <td>Extrovert</td>\n",
       "    </tr>\n",
       "  </tbody>\n",
       "</table>\n",
       "<p>703 rows × 8 columns</p>\n",
       "</div>"
      ],
      "text/plain": [
       "      Time_spent_Alone Stage_fear  Social_event_attendance  Going_outside  \\\n",
       "2                  9.0        Yes                      1.0            2.0   \n",
       "3                  0.0         No                      6.0            7.0   \n",
       "13                 3.0         No                      6.0            4.0   \n",
       "20                10.0        Yes                      3.0            1.0   \n",
       "23                 9.0        Yes                      2.0            2.0   \n",
       "...                ...        ...                      ...            ...   \n",
       "2884              11.0        Yes                      0.0            2.0   \n",
       "2890               8.0        Yes                      2.0            0.0   \n",
       "2891               6.0        Yes                      3.0            1.0   \n",
       "2892               9.0        Yes                      2.0            0.0   \n",
       "2895               3.0         No                      7.0            6.0   \n",
       "\n",
       "     Drained_after_socializing  Friends_circle_size  Post_frequency  \\\n",
       "2                          Yes                  5.0             2.0   \n",
       "3                           No                 14.0             8.0   \n",
       "13                          No                 10.0             7.0   \n",
       "20                         Yes                  2.0             1.0   \n",
       "23                         Yes                  1.0             0.0   \n",
       "...                        ...                  ...             ...   \n",
       "2884                       Yes                  3.0             1.0   \n",
       "2890                       Yes                  1.0             2.0   \n",
       "2891                       Yes                  5.0             1.0   \n",
       "2892                       Yes                  1.0             2.0   \n",
       "2895                        No                  6.0             6.0   \n",
       "\n",
       "     Personality  \n",
       "2      Introvert  \n",
       "3      Extrovert  \n",
       "13     Extrovert  \n",
       "20     Introvert  \n",
       "23     Introvert  \n",
       "...          ...  \n",
       "2884   Introvert  \n",
       "2890   Introvert  \n",
       "2891   Introvert  \n",
       "2892   Introvert  \n",
       "2895   Extrovert  \n",
       "\n",
       "[703 rows x 8 columns]"
      ]
     },
     "metadata": {},
     "output_type": "display_data"
    }
   ],
   "source": [
    "# Mengecek jumlah data duplikat\n",
    "jumlah_duplikat = df.duplicated().sum()\n",
    "print(\"Jumlah data duplikat:\", jumlah_duplikat)\n",
    "\n",
    "# Menampilkan data duplikat jika ada\n",
    "if jumlah_duplikat > 0:\n",
    "    display(df[df.duplicated(keep=False)])\n",
    "else:\n",
    "    print(\"Tidak ada data duplikat yang ditemukan.\")"
   ]
  },
  {
   "cell_type": "markdown",
   "metadata": {},
   "source": [
    "### Mengecek jumlah missing value"
   ]
  },
  {
   "cell_type": "code",
   "execution_count": 8,
   "metadata": {},
   "outputs": [
    {
     "name": "stdout",
     "output_type": "stream",
     "text": [
      "Jumlah missing value per kolom:\n",
      " Time_spent_Alone             63\n",
      "Stage_fear                   73\n",
      "Social_event_attendance      62\n",
      "Going_outside                66\n",
      "Drained_after_socializing    52\n",
      "Friends_circle_size          77\n",
      "Post_frequency               65\n",
      "Personality                   0\n",
      "dtype: int64\n"
     ]
    },
    {
     "data": {
      "application/vnd.microsoft.datawrangler.viewer.v0+json": {
       "columns": [
        {
         "name": "index",
         "rawType": "int64",
         "type": "integer"
        },
        {
         "name": "Time_spent_Alone",
         "rawType": "float64",
         "type": "float"
        },
        {
         "name": "Stage_fear",
         "rawType": "object",
         "type": "unknown"
        },
        {
         "name": "Social_event_attendance",
         "rawType": "float64",
         "type": "float"
        },
        {
         "name": "Going_outside",
         "rawType": "float64",
         "type": "float"
        },
        {
         "name": "Drained_after_socializing",
         "rawType": "object",
         "type": "unknown"
        },
        {
         "name": "Friends_circle_size",
         "rawType": "float64",
         "type": "float"
        },
        {
         "name": "Post_frequency",
         "rawType": "float64",
         "type": "float"
        },
        {
         "name": "Personality",
         "rawType": "object",
         "type": "string"
        }
       ],
       "ref": "b5847ab9-bfc1-4654-a3bf-682b2dde9d97",
       "rows": [
        [
         "6",
         "4.0",
         "No",
         "9.0",
         null,
         "No",
         "7.0",
         "7.0",
         "Extrovert"
        ],
        [
         "33",
         "8.0",
         "Yes",
         "3.0",
         "3.0",
         null,
         "2.0",
         "0.0",
         "Introvert"
        ],
        [
         "41",
         "1.0",
         "No",
         "4.0",
         "5.0",
         "No",
         null,
         "10.0",
         "Extrovert"
        ],
        [
         "59",
         null,
         "No",
         "9.0",
         "4.0",
         "No",
         "7.0",
         "5.0",
         "Extrovert"
        ],
        [
         "71",
         "1.0",
         "No",
         null,
         "5.0",
         "No",
         "11.0",
         "8.0",
         "Extrovert"
        ],
        [
         "83",
         "7.0",
         "Yes",
         "1.0",
         "0.0",
         null,
         "3.0",
         "1.0",
         "Introvert"
        ],
        [
         "89",
         "3.0",
         "No",
         "7.0",
         "6.0",
         "No",
         null,
         "9.0",
         "Extrovert"
        ],
        [
         "96",
         "1.0",
         "No",
         "5.0",
         null,
         "No",
         "10.0",
         "9.0",
         "Extrovert"
        ],
        [
         "101",
         "1.0",
         "No",
         null,
         "6.0",
         "No",
         "8.0",
         "8.0",
         "Extrovert"
        ],
        [
         "115",
         "4.0",
         null,
         "5.0",
         "5.0",
         "No",
         "15.0",
         "8.0",
         "Extrovert"
        ],
        [
         "125",
         null,
         "Yes",
         "3.0",
         "0.0",
         "Yes",
         "2.0",
         "1.0",
         "Introvert"
        ],
        [
         "131",
         "5.0",
         "Yes",
         null,
         "0.0",
         "Yes",
         "2.0",
         "2.0",
         "Introvert"
        ],
        [
         "157",
         "2.0",
         null,
         "6.0",
         "7.0",
         "No",
         "11.0",
         "10.0",
         "Extrovert"
        ],
        [
         "171",
         null,
         "No",
         "4.0",
         "7.0",
         "No",
         "7.0",
         "5.0",
         "Extrovert"
        ],
        [
         "180",
         null,
         "No",
         "8.0",
         "5.0",
         "No",
         "9.0",
         "4.0",
         "Extrovert"
        ],
        [
         "199",
         "3.0",
         "No",
         "6.0",
         null,
         "No",
         "10.0",
         "6.0",
         "Extrovert"
        ],
        [
         "205",
         "8.0",
         null,
         "0.0",
         null,
         "Yes",
         "3.0",
         "2.0",
         "Introvert"
        ],
        [
         "207",
         null,
         "Yes",
         "2.0",
         "2.0",
         "Yes",
         "1.0",
         "2.0",
         "Introvert"
        ],
        [
         "220",
         "4.0",
         "Yes",
         "2.0",
         "2.0",
         "Yes",
         null,
         "0.0",
         "Introvert"
        ],
        [
         "225",
         "6.0",
         null,
         "0.0",
         "2.0",
         "Yes",
         "1.0",
         "2.0",
         "Introvert"
        ],
        [
         "230",
         "8.0",
         "Yes",
         "2.0",
         "2.0",
         null,
         "1.0",
         "0.0",
         "Introvert"
        ],
        [
         "233",
         "7.0",
         "Yes",
         "1.0",
         "1.0",
         "Yes",
         "3.0",
         null,
         "Introvert"
        ],
        [
         "235",
         "4.0",
         "Yes",
         "0.0",
         "2.0",
         "Yes",
         "2.0",
         null,
         "Introvert"
        ],
        [
         "269",
         "8.0",
         "Yes",
         "0.0",
         "1.0",
         "Yes",
         "1.0",
         null,
         "Introvert"
        ],
        [
         "274",
         "5.0",
         "Yes",
         "1.0",
         null,
         "Yes",
         "1.0",
         "0.0",
         "Introvert"
        ],
        [
         "278",
         "7.0",
         "Yes",
         "0.0",
         "0.0",
         "Yes",
         null,
         "1.0",
         "Introvert"
        ],
        [
         "282",
         "9.0",
         null,
         "1.0",
         "1.0",
         "Yes",
         "2.0",
         "0.0",
         "Introvert"
        ],
        [
         "293",
         "8.0",
         "Yes",
         null,
         "0.0",
         "Yes",
         null,
         null,
         "Introvert"
        ],
        [
         "308",
         "0.0",
         null,
         "5.0",
         "5.0",
         "No",
         null,
         "9.0",
         "Extrovert"
        ],
        [
         "310",
         "1.0",
         "No",
         "4.0",
         null,
         "No",
         null,
         "5.0",
         "Extrovert"
        ],
        [
         "311",
         "0.0",
         "No",
         "6.0",
         null,
         "No",
         "8.0",
         "4.0",
         "Extrovert"
        ],
        [
         "317",
         null,
         "No",
         "3.0",
         "6.0",
         "No",
         "4.0",
         "8.0",
         "Extrovert"
        ],
        [
         "320",
         null,
         "No",
         "6.0",
         "4.0",
         "No",
         "4.0",
         "5.0",
         "Extrovert"
        ],
        [
         "330",
         "1.0",
         "No",
         null,
         "7.0",
         "No",
         "5.0",
         "3.0",
         "Extrovert"
        ],
        [
         "336",
         "2.0",
         "No",
         "4.0",
         "5.0",
         "No",
         "6.0",
         null,
         "Extrovert"
        ],
        [
         "337",
         "1.0",
         "No",
         null,
         "4.0",
         "No",
         "8.0",
         "4.0",
         "Extrovert"
        ],
        [
         "351",
         "1.0",
         "No",
         "6.0",
         "7.0",
         "No",
         "8.0",
         null,
         "Extrovert"
        ],
        [
         "368",
         "1.0",
         "No",
         "5.0",
         "6.0",
         null,
         "5.0",
         "6.0",
         "Extrovert"
        ],
        [
         "378",
         "3.0",
         "No",
         "7.0",
         "5.0",
         "No",
         null,
         "7.0",
         "Extrovert"
        ],
        [
         "380",
         "3.0",
         "No",
         "5.0",
         "6.0",
         "No",
         null,
         "9.0",
         "Extrovert"
        ],
        [
         "384",
         "2.0",
         null,
         "7.0",
         "4.0",
         "No",
         "5.0",
         "6.0",
         "Extrovert"
        ],
        [
         "386",
         "0.0",
         "No",
         null,
         "4.0",
         "No",
         "7.0",
         "4.0",
         "Extrovert"
        ],
        [
         "389",
         "2.0",
         "No",
         "3.0",
         "5.0",
         "No",
         null,
         "5.0",
         "Extrovert"
        ],
        [
         "402",
         "6.0",
         "Yes",
         "2.0",
         "0.0",
         "Yes",
         null,
         "2.0",
         "Introvert"
        ],
        [
         "424",
         "1.0",
         "No",
         "4.0",
         "7.0",
         null,
         "12.0",
         "3.0",
         "Extrovert"
        ],
        [
         "446",
         "4.0",
         "Yes",
         "3.0",
         "0.0",
         "Yes",
         "2.0",
         null,
         "Introvert"
        ],
        [
         "453",
         "3.0",
         null,
         "6.0",
         "5.0",
         "No",
         "8.0",
         "6.0",
         "Extrovert"
        ],
        [
         "460",
         "1.0",
         null,
         "4.0",
         "7.0",
         "No",
         "10.0",
         "7.0",
         "Extrovert"
        ],
        [
         "462",
         "2.0",
         "No",
         "6.0",
         "7.0",
         "No",
         null,
         "6.0",
         "Extrovert"
        ],
        [
         "467",
         "11.0",
         "Yes",
         "1.0",
         "1.0",
         "Yes",
         "1.0",
         null,
         "Introvert"
        ]
       ],
       "shape": {
        "columns": 8,
        "rows": 423
       }
      },
      "text/html": [
       "<div>\n",
       "<style scoped>\n",
       "    .dataframe tbody tr th:only-of-type {\n",
       "        vertical-align: middle;\n",
       "    }\n",
       "\n",
       "    .dataframe tbody tr th {\n",
       "        vertical-align: top;\n",
       "    }\n",
       "\n",
       "    .dataframe thead th {\n",
       "        text-align: right;\n",
       "    }\n",
       "</style>\n",
       "<table border=\"1\" class=\"dataframe\">\n",
       "  <thead>\n",
       "    <tr style=\"text-align: right;\">\n",
       "      <th></th>\n",
       "      <th>Time_spent_Alone</th>\n",
       "      <th>Stage_fear</th>\n",
       "      <th>Social_event_attendance</th>\n",
       "      <th>Going_outside</th>\n",
       "      <th>Drained_after_socializing</th>\n",
       "      <th>Friends_circle_size</th>\n",
       "      <th>Post_frequency</th>\n",
       "      <th>Personality</th>\n",
       "    </tr>\n",
       "  </thead>\n",
       "  <tbody>\n",
       "    <tr>\n",
       "      <th>6</th>\n",
       "      <td>4.0</td>\n",
       "      <td>No</td>\n",
       "      <td>9.0</td>\n",
       "      <td>NaN</td>\n",
       "      <td>No</td>\n",
       "      <td>7.0</td>\n",
       "      <td>7.0</td>\n",
       "      <td>Extrovert</td>\n",
       "    </tr>\n",
       "    <tr>\n",
       "      <th>33</th>\n",
       "      <td>8.0</td>\n",
       "      <td>Yes</td>\n",
       "      <td>3.0</td>\n",
       "      <td>3.0</td>\n",
       "      <td>NaN</td>\n",
       "      <td>2.0</td>\n",
       "      <td>0.0</td>\n",
       "      <td>Introvert</td>\n",
       "    </tr>\n",
       "    <tr>\n",
       "      <th>41</th>\n",
       "      <td>1.0</td>\n",
       "      <td>No</td>\n",
       "      <td>4.0</td>\n",
       "      <td>5.0</td>\n",
       "      <td>No</td>\n",
       "      <td>NaN</td>\n",
       "      <td>10.0</td>\n",
       "      <td>Extrovert</td>\n",
       "    </tr>\n",
       "    <tr>\n",
       "      <th>59</th>\n",
       "      <td>NaN</td>\n",
       "      <td>No</td>\n",
       "      <td>9.0</td>\n",
       "      <td>4.0</td>\n",
       "      <td>No</td>\n",
       "      <td>7.0</td>\n",
       "      <td>5.0</td>\n",
       "      <td>Extrovert</td>\n",
       "    </tr>\n",
       "    <tr>\n",
       "      <th>71</th>\n",
       "      <td>1.0</td>\n",
       "      <td>No</td>\n",
       "      <td>NaN</td>\n",
       "      <td>5.0</td>\n",
       "      <td>No</td>\n",
       "      <td>11.0</td>\n",
       "      <td>8.0</td>\n",
       "      <td>Extrovert</td>\n",
       "    </tr>\n",
       "    <tr>\n",
       "      <th>...</th>\n",
       "      <td>...</td>\n",
       "      <td>...</td>\n",
       "      <td>...</td>\n",
       "      <td>...</td>\n",
       "      <td>...</td>\n",
       "      <td>...</td>\n",
       "      <td>...</td>\n",
       "      <td>...</td>\n",
       "    </tr>\n",
       "    <tr>\n",
       "      <th>2882</th>\n",
       "      <td>1.0</td>\n",
       "      <td>NaN</td>\n",
       "      <td>9.0</td>\n",
       "      <td>3.0</td>\n",
       "      <td>No</td>\n",
       "      <td>7.0</td>\n",
       "      <td>6.0</td>\n",
       "      <td>Extrovert</td>\n",
       "    </tr>\n",
       "    <tr>\n",
       "      <th>2885</th>\n",
       "      <td>10.0</td>\n",
       "      <td>Yes</td>\n",
       "      <td>0.0</td>\n",
       "      <td>0.0</td>\n",
       "      <td>NaN</td>\n",
       "      <td>2.0</td>\n",
       "      <td>0.0</td>\n",
       "      <td>Introvert</td>\n",
       "    </tr>\n",
       "    <tr>\n",
       "      <th>2893</th>\n",
       "      <td>9.0</td>\n",
       "      <td>NaN</td>\n",
       "      <td>2.0</td>\n",
       "      <td>0.0</td>\n",
       "      <td>Yes</td>\n",
       "      <td>4.0</td>\n",
       "      <td>2.0</td>\n",
       "      <td>Introvert</td>\n",
       "    </tr>\n",
       "    <tr>\n",
       "      <th>2894</th>\n",
       "      <td>0.0</td>\n",
       "      <td>No</td>\n",
       "      <td>9.0</td>\n",
       "      <td>3.0</td>\n",
       "      <td>No</td>\n",
       "      <td>12.0</td>\n",
       "      <td>NaN</td>\n",
       "      <td>Extrovert</td>\n",
       "    </tr>\n",
       "    <tr>\n",
       "      <th>2898</th>\n",
       "      <td>11.0</td>\n",
       "      <td>Yes</td>\n",
       "      <td>1.0</td>\n",
       "      <td>NaN</td>\n",
       "      <td>Yes</td>\n",
       "      <td>2.0</td>\n",
       "      <td>0.0</td>\n",
       "      <td>Introvert</td>\n",
       "    </tr>\n",
       "  </tbody>\n",
       "</table>\n",
       "<p>423 rows × 8 columns</p>\n",
       "</div>"
      ],
      "text/plain": [
       "      Time_spent_Alone Stage_fear  Social_event_attendance  Going_outside  \\\n",
       "6                  4.0         No                      9.0            NaN   \n",
       "33                 8.0        Yes                      3.0            3.0   \n",
       "41                 1.0         No                      4.0            5.0   \n",
       "59                 NaN         No                      9.0            4.0   \n",
       "71                 1.0         No                      NaN            5.0   \n",
       "...                ...        ...                      ...            ...   \n",
       "2882               1.0        NaN                      9.0            3.0   \n",
       "2885              10.0        Yes                      0.0            0.0   \n",
       "2893               9.0        NaN                      2.0            0.0   \n",
       "2894               0.0         No                      9.0            3.0   \n",
       "2898              11.0        Yes                      1.0            NaN   \n",
       "\n",
       "     Drained_after_socializing  Friends_circle_size  Post_frequency  \\\n",
       "6                           No                  7.0             7.0   \n",
       "33                         NaN                  2.0             0.0   \n",
       "41                          No                  NaN            10.0   \n",
       "59                          No                  7.0             5.0   \n",
       "71                          No                 11.0             8.0   \n",
       "...                        ...                  ...             ...   \n",
       "2882                        No                  7.0             6.0   \n",
       "2885                       NaN                  2.0             0.0   \n",
       "2893                       Yes                  4.0             2.0   \n",
       "2894                        No                 12.0             NaN   \n",
       "2898                       Yes                  2.0             0.0   \n",
       "\n",
       "     Personality  \n",
       "6      Extrovert  \n",
       "33     Introvert  \n",
       "41     Extrovert  \n",
       "59     Extrovert  \n",
       "71     Extrovert  \n",
       "...          ...  \n",
       "2882   Extrovert  \n",
       "2885   Introvert  \n",
       "2893   Introvert  \n",
       "2894   Extrovert  \n",
       "2898   Introvert  \n",
       "\n",
       "[423 rows x 8 columns]"
      ]
     },
     "metadata": {},
     "output_type": "display_data"
    }
   ],
   "source": [
    "# Mengecek jumlah missing value pada setiap kolom\n",
    "missing_values = df.isnull().sum()\n",
    "print(\"Jumlah missing value per kolom:\\n\", missing_values)\n",
    "\n",
    "# Menampilkan data yang memiliki missing value\n",
    "if missing_values.sum() > 0:\n",
    "    display(df[df.isnull().any(axis=1)])\n",
    "else:\n",
    "    print(\"Tidak ada data yang memiliki missing value.\")"
   ]
  },
  {
   "cell_type": "markdown",
   "metadata": {},
   "source": [
    "### Menampilkan Statistik Deskriptif untuk Seluruh Kolom"
   ]
  },
  {
   "cell_type": "code",
   "execution_count": 9,
   "metadata": {},
   "outputs": [
    {
     "name": "stdout",
     "output_type": "stream",
     "text": [
      "Statistik Deskriptif untuk Seluruh Kolom:\n"
     ]
    },
    {
     "data": {
      "application/vnd.microsoft.datawrangler.viewer.v0+json": {
       "columns": [
        {
         "name": "index",
         "rawType": "object",
         "type": "string"
        },
        {
         "name": "Time_spent_Alone",
         "rawType": "float64",
         "type": "float"
        },
        {
         "name": "Stage_fear",
         "rawType": "object",
         "type": "unknown"
        },
        {
         "name": "Social_event_attendance",
         "rawType": "float64",
         "type": "float"
        },
        {
         "name": "Going_outside",
         "rawType": "float64",
         "type": "float"
        },
        {
         "name": "Drained_after_socializing",
         "rawType": "object",
         "type": "unknown"
        },
        {
         "name": "Friends_circle_size",
         "rawType": "float64",
         "type": "float"
        },
        {
         "name": "Post_frequency",
         "rawType": "float64",
         "type": "float"
        },
        {
         "name": "Personality",
         "rawType": "object",
         "type": "unknown"
        }
       ],
       "ref": "4e233eb6-8545-41ac-a94c-8c1f98186ac7",
       "rows": [
        [
         "count",
         "2837.0",
         "2827",
         "2838.0",
         "2834.0",
         "2848",
         "2823.0",
         "2835.0",
         "2900"
        ],
        [
         "unique",
         null,
         "2",
         null,
         null,
         "2",
         null,
         null,
         "2"
        ],
        [
         "top",
         null,
         "No",
         null,
         null,
         "No",
         null,
         null,
         "Extrovert"
        ],
        [
         "freq",
         null,
         "1417",
         null,
         null,
         "1441",
         null,
         null,
         "1491"
        ],
        [
         "mean",
         "4.505816002819881",
         null,
         "3.963354474982382",
         "3.0",
         null,
         "6.268862911795962",
         "3.564726631393298",
         null
        ],
        [
         "std",
         "3.4791923314542723",
         null,
         "2.9038273374964385",
         "2.247326528711436",
         null,
         "4.289692830709239",
         "2.926581789039728",
         null
        ],
        [
         "min",
         "0.0",
         null,
         "0.0",
         "0.0",
         null,
         "0.0",
         "0.0",
         null
        ],
        [
         "25%",
         "2.0",
         null,
         "2.0",
         "1.0",
         null,
         "3.0",
         "1.0",
         null
        ],
        [
         "50%",
         "4.0",
         null,
         "3.0",
         "3.0",
         null,
         "5.0",
         "3.0",
         null
        ],
        [
         "75%",
         "8.0",
         null,
         "6.0",
         "5.0",
         null,
         "10.0",
         "6.0",
         null
        ],
        [
         "max",
         "11.0",
         null,
         "10.0",
         "7.0",
         null,
         "15.0",
         "10.0",
         null
        ]
       ],
       "shape": {
        "columns": 8,
        "rows": 11
       }
      },
      "text/html": [
       "<div>\n",
       "<style scoped>\n",
       "    .dataframe tbody tr th:only-of-type {\n",
       "        vertical-align: middle;\n",
       "    }\n",
       "\n",
       "    .dataframe tbody tr th {\n",
       "        vertical-align: top;\n",
       "    }\n",
       "\n",
       "    .dataframe thead th {\n",
       "        text-align: right;\n",
       "    }\n",
       "</style>\n",
       "<table border=\"1\" class=\"dataframe\">\n",
       "  <thead>\n",
       "    <tr style=\"text-align: right;\">\n",
       "      <th></th>\n",
       "      <th>Time_spent_Alone</th>\n",
       "      <th>Stage_fear</th>\n",
       "      <th>Social_event_attendance</th>\n",
       "      <th>Going_outside</th>\n",
       "      <th>Drained_after_socializing</th>\n",
       "      <th>Friends_circle_size</th>\n",
       "      <th>Post_frequency</th>\n",
       "      <th>Personality</th>\n",
       "    </tr>\n",
       "  </thead>\n",
       "  <tbody>\n",
       "    <tr>\n",
       "      <th>count</th>\n",
       "      <td>2837.000000</td>\n",
       "      <td>2827</td>\n",
       "      <td>2838.000000</td>\n",
       "      <td>2834.000000</td>\n",
       "      <td>2848</td>\n",
       "      <td>2823.000000</td>\n",
       "      <td>2835.000000</td>\n",
       "      <td>2900</td>\n",
       "    </tr>\n",
       "    <tr>\n",
       "      <th>unique</th>\n",
       "      <td>NaN</td>\n",
       "      <td>2</td>\n",
       "      <td>NaN</td>\n",
       "      <td>NaN</td>\n",
       "      <td>2</td>\n",
       "      <td>NaN</td>\n",
       "      <td>NaN</td>\n",
       "      <td>2</td>\n",
       "    </tr>\n",
       "    <tr>\n",
       "      <th>top</th>\n",
       "      <td>NaN</td>\n",
       "      <td>No</td>\n",
       "      <td>NaN</td>\n",
       "      <td>NaN</td>\n",
       "      <td>No</td>\n",
       "      <td>NaN</td>\n",
       "      <td>NaN</td>\n",
       "      <td>Extrovert</td>\n",
       "    </tr>\n",
       "    <tr>\n",
       "      <th>freq</th>\n",
       "      <td>NaN</td>\n",
       "      <td>1417</td>\n",
       "      <td>NaN</td>\n",
       "      <td>NaN</td>\n",
       "      <td>1441</td>\n",
       "      <td>NaN</td>\n",
       "      <td>NaN</td>\n",
       "      <td>1491</td>\n",
       "    </tr>\n",
       "    <tr>\n",
       "      <th>mean</th>\n",
       "      <td>4.505816</td>\n",
       "      <td>NaN</td>\n",
       "      <td>3.963354</td>\n",
       "      <td>3.000000</td>\n",
       "      <td>NaN</td>\n",
       "      <td>6.268863</td>\n",
       "      <td>3.564727</td>\n",
       "      <td>NaN</td>\n",
       "    </tr>\n",
       "    <tr>\n",
       "      <th>std</th>\n",
       "      <td>3.479192</td>\n",
       "      <td>NaN</td>\n",
       "      <td>2.903827</td>\n",
       "      <td>2.247327</td>\n",
       "      <td>NaN</td>\n",
       "      <td>4.289693</td>\n",
       "      <td>2.926582</td>\n",
       "      <td>NaN</td>\n",
       "    </tr>\n",
       "    <tr>\n",
       "      <th>min</th>\n",
       "      <td>0.000000</td>\n",
       "      <td>NaN</td>\n",
       "      <td>0.000000</td>\n",
       "      <td>0.000000</td>\n",
       "      <td>NaN</td>\n",
       "      <td>0.000000</td>\n",
       "      <td>0.000000</td>\n",
       "      <td>NaN</td>\n",
       "    </tr>\n",
       "    <tr>\n",
       "      <th>25%</th>\n",
       "      <td>2.000000</td>\n",
       "      <td>NaN</td>\n",
       "      <td>2.000000</td>\n",
       "      <td>1.000000</td>\n",
       "      <td>NaN</td>\n",
       "      <td>3.000000</td>\n",
       "      <td>1.000000</td>\n",
       "      <td>NaN</td>\n",
       "    </tr>\n",
       "    <tr>\n",
       "      <th>50%</th>\n",
       "      <td>4.000000</td>\n",
       "      <td>NaN</td>\n",
       "      <td>3.000000</td>\n",
       "      <td>3.000000</td>\n",
       "      <td>NaN</td>\n",
       "      <td>5.000000</td>\n",
       "      <td>3.000000</td>\n",
       "      <td>NaN</td>\n",
       "    </tr>\n",
       "    <tr>\n",
       "      <th>75%</th>\n",
       "      <td>8.000000</td>\n",
       "      <td>NaN</td>\n",
       "      <td>6.000000</td>\n",
       "      <td>5.000000</td>\n",
       "      <td>NaN</td>\n",
       "      <td>10.000000</td>\n",
       "      <td>6.000000</td>\n",
       "      <td>NaN</td>\n",
       "    </tr>\n",
       "    <tr>\n",
       "      <th>max</th>\n",
       "      <td>11.000000</td>\n",
       "      <td>NaN</td>\n",
       "      <td>10.000000</td>\n",
       "      <td>7.000000</td>\n",
       "      <td>NaN</td>\n",
       "      <td>15.000000</td>\n",
       "      <td>10.000000</td>\n",
       "      <td>NaN</td>\n",
       "    </tr>\n",
       "  </tbody>\n",
       "</table>\n",
       "</div>"
      ],
      "text/plain": [
       "        Time_spent_Alone Stage_fear  Social_event_attendance  Going_outside  \\\n",
       "count        2837.000000       2827              2838.000000    2834.000000   \n",
       "unique               NaN          2                      NaN            NaN   \n",
       "top                  NaN         No                      NaN            NaN   \n",
       "freq                 NaN       1417                      NaN            NaN   \n",
       "mean            4.505816        NaN                 3.963354       3.000000   \n",
       "std             3.479192        NaN                 2.903827       2.247327   \n",
       "min             0.000000        NaN                 0.000000       0.000000   \n",
       "25%             2.000000        NaN                 2.000000       1.000000   \n",
       "50%             4.000000        NaN                 3.000000       3.000000   \n",
       "75%             8.000000        NaN                 6.000000       5.000000   \n",
       "max            11.000000        NaN                10.000000       7.000000   \n",
       "\n",
       "       Drained_after_socializing  Friends_circle_size  Post_frequency  \\\n",
       "count                       2848          2823.000000     2835.000000   \n",
       "unique                         2                  NaN             NaN   \n",
       "top                           No                  NaN             NaN   \n",
       "freq                        1441                  NaN             NaN   \n",
       "mean                         NaN             6.268863        3.564727   \n",
       "std                          NaN             4.289693        2.926582   \n",
       "min                          NaN             0.000000        0.000000   \n",
       "25%                          NaN             3.000000        1.000000   \n",
       "50%                          NaN             5.000000        3.000000   \n",
       "75%                          NaN            10.000000        6.000000   \n",
       "max                          NaN            15.000000       10.000000   \n",
       "\n",
       "       Personality  \n",
       "count         2900  \n",
       "unique           2  \n",
       "top      Extrovert  \n",
       "freq          1491  \n",
       "mean           NaN  \n",
       "std            NaN  \n",
       "min            NaN  \n",
       "25%            NaN  \n",
       "50%            NaN  \n",
       "75%            NaN  \n",
       "max            NaN  "
      ]
     },
     "metadata": {},
     "output_type": "display_data"
    }
   ],
   "source": [
    "print(\"Statistik Deskriptif untuk Seluruh Kolom:\")\n",
    "display(df.describe(include='all'))"
   ]
  },
  {
   "cell_type": "markdown",
   "metadata": {},
   "source": [
    "### Distribusi variabel target\n"
   ]
  },
  {
   "cell_type": "code",
   "execution_count": 10,
   "metadata": {
    "colab": {
     "base_uri": "https://localhost:8080/",
     "height": 410
    },
    "executionInfo": {
     "elapsed": 80,
     "status": "ok",
     "timestamp": 1749404779579,
     "user": {
      "displayName": "johanadi santoso",
      "userId": "06181911375280010083"
     },
     "user_tz": -420
    },
    "id": "oR4oGCGzpd5Z",
    "outputId": "8a8500c5-69b7-427e-ef66-eda39337a2db"
   },
   "outputs": [
    {
     "data": {
      "image/png": "[encoded data removed]",
      "text/plain": [
       "<Figure size 600x400 with 1 Axes>"
      ]
     },
     "metadata": {},
     "output_type": "display_data"
    }
   ],
   "source": [
    "plt.figure(figsize=(6, 4))\n",
    "sns.countplot(x='Personality', data=df)\n",
    "plt.title('Distribusi Kepribadian (Target)')\n",
    "plt.xlabel('Kepribadian')\n",
    "plt.ylabel('Jumlah')\n",
    "plt.show()"
   ]
  },
  {
   "cell_type": "markdown",
   "metadata": {},
   "source": [
    "### Analisis Univariat untuk variabel kategorikal"
   ]
  },
  {
   "cell_type": "code",
   "execution_count": 11,
   "metadata": {
    "colab": {
     "base_uri": "https://localhost:8080/",
     "height": 803
    },
    "executionInfo": {
     "elapsed": 393,
     "status": "ok",
     "timestamp": 1749404898431,
     "user": {
      "displayName": "johanadi santoso",
      "userId": "06181911375280010083"
     },
     "user_tz": -420
    },
    "id": "rXWAxp4OqEvb",
    "outputId": "2b7856af-b1ad-409d-bcd6-65827e885b79"
   },
   "outputs": [
    {
     "data": {
      "image/png": "[encoded data removed]",
      "text/plain": [
       "<Figure size 600x400 with 1 Axes>"
      ]
     },
     "metadata": {},
     "output_type": "display_data"
    },
    {
     "data": {
      "image/png": "[encoded data removed]",
      "text/plain": [
       "<Figure size 600x400 with 1 Axes>"
      ]
     },
     "metadata": {},
     "output_type": "display_data"
    }
   ],
   "source": [
    "categorical_col = ['Stage_fear', 'Drained_after_socializing']\n",
    "\n",
    "for col in categorical_col:\n",
    "    plt.figure(figsize=(6, 4))\n",
    "    sns.countplot(x=col, data=df)\n",
    "    plt.title(f'Distribusi {col}')\n",
    "    plt.xlabel(col)\n",
    "    plt.ylabel('Jumlah')\n",
    "    plt.show()"
   ]
  },
  {
   "cell_type": "markdown",
   "metadata": {},
   "source": [
    "### Analisis Univariat untuk variabel numerik\n"
   ]
  },
  {
   "cell_type": "code",
   "execution_count": 12,
   "metadata": {
    "colab": {
     "base_uri": "https://localhost:8080/",
     "height": 592
    },
    "executionInfo": {
     "elapsed": 888,
     "status": "ok",
     "timestamp": 1749404780470,
     "user": {
      "displayName": "johanadi santoso",
      "userId": "06181911375280010083"
     },
     "user_tz": -420
    },
    "id": "L-HRva_jpiCf",
    "outputId": "177a95c4-cf61-4781-d7f2-cd52dd328a67"
   },
   "outputs": [
    {
     "data": {
      "image/png": "[encoded data removed]",
      "text/plain": [
       "<Figure size 1500x600 with 6 Axes>"
      ]
     },
     "metadata": {},
     "output_type": "display_data"
    }
   ],
   "source": [
    "numerical_col = ['Time_spent_Alone', 'Social_event_attendance', 'Going_outside', 'Friends_circle_size', 'Post_frequency']\n",
    "\n",
    "df[numerical_col].hist(bins=15, figsize=(15, 6), layout=(2, 3))\n",
    "plt.suptitle('Distribusi Variabel Numerik')\n",
    "plt.tight_layout(rect=[0, 0.03, 1, 0.95])\n",
    "plt.show()"
   ]
  },
  {
   "cell_type": "markdown",
   "metadata": {},
   "source": [
    "### Mengecek Outlier pada Fitur Numerik"
   ]
  },
  {
   "cell_type": "code",
   "execution_count": 13,
   "metadata": {},
   "outputs": [
    {
     "data": {
      "image/png": "[encoded data removed]",
      "text/plain": [
       "<Figure size 1500x1500 with 5 Axes>"
      ]
     },
     "metadata": {},
     "output_type": "display_data"
    },
    {
     "data": {
      "application/vnd.microsoft.datawrangler.viewer.v0+json": {
       "columns": [
        {
         "name": "index",
         "rawType": "int64",
         "type": "integer"
        },
        {
         "name": "Fitur",
         "rawType": "object",
         "type": "string"
        },
        {
         "name": "Q1",
         "rawType": "float64",
         "type": "float"
        },
        {
         "name": "Q3",
         "rawType": "float64",
         "type": "float"
        },
        {
         "name": "IQR",
         "rawType": "float64",
         "type": "float"
        },
        {
         "name": "Batas Bawah",
         "rawType": "float64",
         "type": "float"
        },
        {
         "name": "Batas Atas",
         "rawType": "float64",
         "type": "float"
        },
        {
         "name": "Jumlah Outlier",
         "rawType": "int64",
         "type": "integer"
        }
       ],
       "ref": "60b5c2b4-a0e9-4b3e-8fd3-9bcbf3568fc3",
       "rows": [
        [
         "0",
         "Time_spent_Alone",
         "2.0",
         "8.0",
         "6.0",
         "-7.0",
         "17.0",
         "0"
        ],
        [
         "1",
         "Social_event_attendance",
         "2.0",
         "6.0",
         "4.0",
         "-4.0",
         "12.0",
         "0"
        ],
        [
         "2",
         "Going_outside",
         "1.0",
         "5.0",
         "4.0",
         "-5.0",
         "11.0",
         "0"
        ],
        [
         "3",
         "Friends_circle_size",
         "3.0",
         "10.0",
         "7.0",
         "-7.5",
         "20.5",
         "0"
        ],
        [
         "4",
         "Post_frequency",
         "1.0",
         "6.0",
         "5.0",
         "-6.5",
         "13.5",
         "0"
        ]
       ],
       "shape": {
        "columns": 7,
        "rows": 5
       }
      },
      "text/html": [
       "<div>\n",
       "<style scoped>\n",
       "    .dataframe tbody tr th:only-of-type {\n",
       "        vertical-align: middle;\n",
       "    }\n",
       "\n",
       "    .dataframe tbody tr th {\n",
       "        vertical-align: top;\n",
       "    }\n",
       "\n",
       "    .dataframe thead th {\n",
       "        text-align: right;\n",
       "    }\n",
       "</style>\n",
       "<table border=\"1\" class=\"dataframe\">\n",
       "  <thead>\n",
       "    <tr style=\"text-align: right;\">\n",
       "      <th></th>\n",
       "      <th>Fitur</th>\n",
       "      <th>Q1</th>\n",
       "      <th>Q3</th>\n",
       "      <th>IQR</th>\n",
       "      <th>Batas Bawah</th>\n",
       "      <th>Batas Atas</th>\n",
       "      <th>Jumlah Outlier</th>\n",
       "    </tr>\n",
       "  </thead>\n",
       "  <tbody>\n",
       "    <tr>\n",
       "      <th>0</th>\n",
       "      <td>Time_spent_Alone</td>\n",
       "      <td>2.0</td>\n",
       "      <td>8.0</td>\n",
       "      <td>6.0</td>\n",
       "      <td>-7.0</td>\n",
       "      <td>17.0</td>\n",
       "      <td>0</td>\n",
       "    </tr>\n",
       "    <tr>\n",
       "      <th>1</th>\n",
       "      <td>Social_event_attendance</td>\n",
       "      <td>2.0</td>\n",
       "      <td>6.0</td>\n",
       "      <td>4.0</td>\n",
       "      <td>-4.0</td>\n",
       "      <td>12.0</td>\n",
       "      <td>0</td>\n",
       "    </tr>\n",
       "    <tr>\n",
       "      <th>2</th>\n",
       "      <td>Going_outside</td>\n",
       "      <td>1.0</td>\n",
       "      <td>5.0</td>\n",
       "      <td>4.0</td>\n",
       "      <td>-5.0</td>\n",
       "      <td>11.0</td>\n",
       "      <td>0</td>\n",
       "    </tr>\n",
       "    <tr>\n",
       "      <th>3</th>\n",
       "      <td>Friends_circle_size</td>\n",
       "      <td>3.0</td>\n",
       "      <td>10.0</td>\n",
       "      <td>7.0</td>\n",
       "      <td>-7.5</td>\n",
       "      <td>20.5</td>\n",
       "      <td>0</td>\n",
       "    </tr>\n",
       "    <tr>\n",
       "      <th>4</th>\n",
       "      <td>Post_frequency</td>\n",
       "      <td>1.0</td>\n",
       "      <td>6.0</td>\n",
       "      <td>5.0</td>\n",
       "      <td>-6.5</td>\n",
       "      <td>13.5</td>\n",
       "      <td>0</td>\n",
       "    </tr>\n",
       "  </tbody>\n",
       "</table>\n",
       "</div>"
      ],
      "text/plain": [
       "                     Fitur   Q1    Q3  IQR  Batas Bawah  Batas Atas  \\\n",
       "0         Time_spent_Alone  2.0   8.0  6.0         -7.0        17.0   \n",
       "1  Social_event_attendance  2.0   6.0  4.0         -4.0        12.0   \n",
       "2            Going_outside  1.0   5.0  4.0         -5.0        11.0   \n",
       "3      Friends_circle_size  3.0  10.0  7.0         -7.5        20.5   \n",
       "4           Post_frequency  1.0   6.0  5.0         -6.5        13.5   \n",
       "\n",
       "   Jumlah Outlier  \n",
       "0               0  \n",
       "1               0  \n",
       "2               0  \n",
       "3               0  \n",
       "4               0  "
      ]
     },
     "execution_count": 13,
     "metadata": {},
     "output_type": "execute_result"
    }
   ],
   "source": [
    "# Membuat subplot\n",
    "fig, axes = plt.subplots(len(numerical_col), 1, figsize=(15, len(numerical_col) * 3))\n",
    "\n",
    "for i, col in enumerate(numerical_col):\n",
    "    sns.boxplot(x=df[col], ax=axes[i])\n",
    "    axes[i].set_title(f'Boxplot fitur: {col}', fontsize=13)\n",
    "\n",
    "plt.subplots_adjust(hspace=1)  # jarak antar boxplot\n",
    "plt.show()\n",
    "\n",
    "outlier_info = []\n",
    "\n",
    "for col in numerical_col:\n",
    "    Q1 = df[col].quantile(0.25)\n",
    "    Q3 = df[col].quantile(0.75)\n",
    "    IQR = Q3 - Q1\n",
    "    lower_bound = Q1 - 1.5 * IQR\n",
    "    upper_bound = Q3 + 1.5 * IQR\n",
    "    total_outliers = df[(df[col] < lower_bound) | (df[col] > upper_bound)].shape[0]\n",
    "\n",
    "    outlier_info.append({\n",
    "        'Fitur': col,\n",
    "        'Q1': Q1,\n",
    "        'Q3': Q3,\n",
    "        'IQR': IQR,\n",
    "        'Batas Bawah': lower_bound,\n",
    "        'Batas Atas': upper_bound,\n",
    "        'Jumlah Outlier': total_outliers\n",
    "    })\n",
    "\n",
    "# Tampilkan sebagai DataFrame\n",
    "outlier_df = pd.DataFrame(outlier_info)\n",
    "outlier_df"
   ]
  },
  {
   "cell_type": "markdown",
   "metadata": {},
   "source": [
    "### Analisis Bivariat: Hubungan antar variabel numerik\n"
   ]
  },
  {
   "cell_type": "code",
   "execution_count": 14,
   "metadata": {
    "colab": {
     "base_uri": "https://localhost:8080/",
     "height": 859
    },
    "executionInfo": {
     "elapsed": 304,
     "status": "ok",
     "timestamp": 1749404780965,
     "user": {
      "displayName": "johanadi santoso",
      "userId": "06181911375280010083"
     },
     "user_tz": -420
    },
    "id": "25XoyPvCpkoB",
    "outputId": "e1af2925-4de1-4cca-9bf6-804dc6985d3a"
   },
   "outputs": [
    {
     "data": {
      "image/png": "[encoded data removed]",
      "text/plain": [
       "<Figure size 1000x800 with 2 Axes>"
      ]
     },
     "metadata": {},
     "output_type": "display_data"
    }
   ],
   "source": [
    "plt.figure(figsize=(10, 8))\n",
    "sns.heatmap(df[numerical_col].corr(), annot=True, cmap='coolwarm', fmt=\".2f\")\n",
    "plt.title('Korelasi Antar Variabel Numerik')\n",
    "plt.show()"
   ]
  },
  {
   "cell_type": "markdown",
   "metadata": {
    "id": "cpgHfgnSK3ip"
   },
   "source": [
    "# **5. Data Preprocessing**"
   ]
  },
  {
   "cell_type": "markdown",
   "metadata": {
    "id": "COf8KUPXLg5r"
   },
   "source": [
    "Pada tahap ini, data preprocessing adalah langkah penting untuk memastikan kualitas data sebelum digunakan dalam model machine learning.\n",
    "\n",
    "Jika Anda menggunakan data teks, data mentah sering kali mengandung nilai kosong, duplikasi, atau rentang nilai yang tidak konsisten, yang dapat memengaruhi kinerja model. Oleh karena itu, proses ini bertujuan untuk membersihkan dan mempersiapkan data agar analisis berjalan optimal.\n",
    "\n",
    "Berikut adalah tahapan-tahapan yang bisa dilakukan, tetapi **tidak terbatas** pada:\n",
    "1. Menghapus atau Menangani Data Kosong (Missing Values)\n",
    "2. Menghapus Data Duplikat\n",
    "3. Normalisasi atau Standarisasi Fitur\n",
    "4. Deteksi dan Penanganan Outlier\n",
    "5. Encoding Data Kategorikal\n",
    "6. Binning (Pengelompokan Data)\n",
    "\n",
    "Cukup sesuaikan dengan karakteristik data yang kamu gunakan yah. Khususnya ketika kami menggunakan data tidak terstruktur."
   ]
  },
  {
   "cell_type": "code",
   "execution_count": 15,
   "metadata": {},
   "outputs": [],
   "source": [
    "categorical_col = ['Stage_fear', 'Drained_after_socializing']\n",
    "numerical_col = ['Time_spent_Alone', 'Social_event_attendance', 'Going_outside', 'Friends_circle_size', 'Post_frequency']"
   ]
  },
  {
   "cell_type": "markdown",
   "metadata": {},
   "source": [
    "### Menangani Data Kosong (Missing Values)"
   ]
  },
  {
   "cell_type": "code",
   "execution_count": 16,
   "metadata": {},
   "outputs": [],
   "source": [
    "# Fitur numerik: imputasi dengan nilai median\n",
    "numeric_imputer = SimpleImputer(strategy='median')\n",
    "df[numerical_col] = numeric_imputer.fit_transform(df[numerical_col])\n",
    "\n",
    "# Fitur kategorikal: imputasi dengan modus (nilai yang paling sering muncul)\n",
    "categorical_imputer = SimpleImputer(strategy='most_frequent')\n",
    "df[categorical_col] = categorical_imputer.fit_transform(df[categorical_col])"
   ]
  },
  {
   "cell_type": "markdown",
   "metadata": {},
   "source": [
    "### Encoding Data"
   ]
  },
  {
   "cell_type": "code",
   "execution_count": 17,
   "metadata": {},
   "outputs": [
    {
     "name": "stdout",
     "output_type": "stream",
     "text": [
      "Encoded target variable Personality: {'Extrovert': 0, 'Introvert': 1}\n"
     ]
    }
   ],
   "source": [
    "# Encode target variable Personality: Extrovert=0, Introvert=1\n",
    "df['Personality'] = (df['Personality'] == 'Introvert').astype(int)\n",
    "print(\"Encoded target variable Personality: {'Extrovert': 0, 'Introvert': 1}\")\n",
    "\n",
    "# Encoding biner untuk kolom kategorikal Yes=1, No=0 \n",
    "df[categorical_col] = (df[categorical_col] == 'Yes').astype(int)\n"
   ]
  },
  {
   "cell_type": "markdown",
   "metadata": {},
   "source": [
    "### Feature engineering"
   ]
  },
  {
   "cell_type": "code",
   "execution_count": 18,
   "metadata": {},
   "outputs": [],
   "source": [
    "# Rasio aktivitas sosial vs. waktu sendirian\n",
    "df['social_alone_ratio'] = (df['Social_event_attendance'] + df['Going_outside']) / (df['Time_spent_Alone'] + 1)\n",
    "\n",
    "# Banyaknya teman dan frekuensi posting\n",
    "df['friends_and_posts'] = df['Friends_circle_size'] * df['Post_frequency']\n",
    "\n",
    "# Interaksi lelah setelah sosial dan kehadiran acara\n",
    "df['drained_by_social'] = df['Drained_after_socializing'] * df['Social_event_attendance']"
   ]
  },
  {
   "cell_type": "markdown",
   "metadata": {},
   "source": [
    "### Normalisasi fitur"
   ]
  },
  {
   "cell_type": "code",
   "execution_count": 20,
   "metadata": {},
   "outputs": [
    {
     "data": {
      "application/vnd.microsoft.datawrangler.viewer.v0+json": {
       "columns": [
        {
         "name": "index",
         "rawType": "int64",
         "type": "integer"
        },
        {
         "name": "Time_spent_Alone",
         "rawType": "float64",
         "type": "float"
        },
        {
         "name": "Stage_fear",
         "rawType": "int32",
         "type": "integer"
        },
        {
         "name": "Social_event_attendance",
         "rawType": "float64",
         "type": "float"
        },
        {
         "name": "Going_outside",
         "rawType": "float64",
         "type": "float"
        },
        {
         "name": "Drained_after_socializing",
         "rawType": "int32",
         "type": "integer"
        },
        {
         "name": "Friends_circle_size",
         "rawType": "float64",
         "type": "float"
        },
        {
         "name": "Post_frequency",
         "rawType": "float64",
         "type": "float"
        },
        {
         "name": "Personality",
         "rawType": "int32",
         "type": "integer"
        },
        {
         "name": "social_alone_ratio",
         "rawType": "float64",
         "type": "float"
        },
        {
         "name": "friends_and_posts",
         "rawType": "float64",
         "type": "float"
        },
        {
         "name": "drained_by_social",
         "rawType": "float64",
         "type": "float"
        }
       ],
       "ref": "9c980f19-4b50-40ba-8fd3-3d07fb9d40db",
       "rows": [
        [
         "0",
         "-0.14378766537817017",
         "0",
         "0.01990664638659076",
         "1.3506125718583961",
         "0",
         "1.5967869745797376",
         "0.5002707034860258",
         "0",
         "-0.2886073944903299",
         "1.028065368985827",
         "-0.6720445778605773"
        ],
        [
         "1",
         "1.3091190579552574",
         "1",
         "-1.3711602095438489",
         "-1.3506125718583961",
         "1",
         "-1.4717658310913861",
         "-0.19074384288667004",
         "1",
         "-0.8302431780540928",
         "-0.9134490684060058",
         "-0.6720445778605773"
        ],
        [
         "2",
         "1.3091190579552574",
         "1",
         "-1.023393495561239",
         "-0.45020419061946537",
         "1",
         "-0.29155321352556934",
         "-0.5362511160730179",
         "1",
         "-0.7489978105195283",
         "-0.6147545395764931",
         "0.2613506691680023"
        ],
        [
         "3",
         "-1.3061130440449122",
         "0",
         "0.7154400743518106",
         "1.8008167624778615",
         "0",
         "1.832829498092901",
         "1.5367925230450694",
         "0",
         "2.6903894151103653",
         "2.431929654484537",
         "-0.6720445778605773"
        ],
        [
         "4",
         "-0.4343690100448557",
         "0",
         "1.7587402162996402",
         "0.45020419061946537",
         "0",
         "0.41657435701392076",
         "0.5002707034860258",
         "0",
         "0.04991497023702187",
         "0.2813290469120452",
         "-0.6720445778605773"
        ]
       ],
       "shape": {
        "columns": 11,
        "rows": 5
       }
      },
      "text/html": [
       "<div>\n",
       "<style scoped>\n",
       "    .dataframe tbody tr th:only-of-type {\n",
       "        vertical-align: middle;\n",
       "    }\n",
       "\n",
       "    .dataframe tbody tr th {\n",
       "        vertical-align: top;\n",
       "    }\n",
       "\n",
       "    .dataframe thead th {\n",
       "        text-align: right;\n",
       "    }\n",
       "</style>\n",
       "<table border=\"1\" class=\"dataframe\">\n",
       "  <thead>\n",
       "    <tr style=\"text-align: right;\">\n",
       "      <th></th>\n",
       "      <th>Time_spent_Alone</th>\n",
       "      <th>Stage_fear</th>\n",
       "      <th>Social_event_attendance</th>\n",
       "      <th>Going_outside</th>\n",
       "      <th>Drained_after_socializing</th>\n",
       "      <th>Friends_circle_size</th>\n",
       "      <th>Post_frequency</th>\n",
       "      <th>Personality</th>\n",
       "      <th>social_alone_ratio</th>\n",
       "      <th>friends_and_posts</th>\n",
       "      <th>drained_by_social</th>\n",
       "    </tr>\n",
       "  </thead>\n",
       "  <tbody>\n",
       "    <tr>\n",
       "      <th>0</th>\n",
       "      <td>-0.143788</td>\n",
       "      <td>0</td>\n",
       "      <td>0.019907</td>\n",
       "      <td>1.350613</td>\n",
       "      <td>0</td>\n",
       "      <td>1.596787</td>\n",
       "      <td>0.500271</td>\n",
       "      <td>0</td>\n",
       "      <td>-0.288607</td>\n",
       "      <td>1.028065</td>\n",
       "      <td>-0.672045</td>\n",
       "    </tr>\n",
       "    <tr>\n",
       "      <th>1</th>\n",
       "      <td>1.309119</td>\n",
       "      <td>1</td>\n",
       "      <td>-1.371160</td>\n",
       "      <td>-1.350613</td>\n",
       "      <td>1</td>\n",
       "      <td>-1.471766</td>\n",
       "      <td>-0.190744</td>\n",
       "      <td>1</td>\n",
       "      <td>-0.830243</td>\n",
       "      <td>-0.913449</td>\n",
       "      <td>-0.672045</td>\n",
       "    </tr>\n",
       "    <tr>\n",
       "      <th>2</th>\n",
       "      <td>1.309119</td>\n",
       "      <td>1</td>\n",
       "      <td>-1.023393</td>\n",
       "      <td>-0.450204</td>\n",
       "      <td>1</td>\n",
       "      <td>-0.291553</td>\n",
       "      <td>-0.536251</td>\n",
       "      <td>1</td>\n",
       "      <td>-0.748998</td>\n",
       "      <td>-0.614755</td>\n",
       "      <td>0.261351</td>\n",
       "    </tr>\n",
       "    <tr>\n",
       "      <th>3</th>\n",
       "      <td>-1.306113</td>\n",
       "      <td>0</td>\n",
       "      <td>0.715440</td>\n",
       "      <td>1.800817</td>\n",
       "      <td>0</td>\n",
       "      <td>1.832829</td>\n",
       "      <td>1.536793</td>\n",
       "      <td>0</td>\n",
       "      <td>2.690389</td>\n",
       "      <td>2.431930</td>\n",
       "      <td>-0.672045</td>\n",
       "    </tr>\n",
       "    <tr>\n",
       "      <th>4</th>\n",
       "      <td>-0.434369</td>\n",
       "      <td>0</td>\n",
       "      <td>1.758740</td>\n",
       "      <td>0.450204</td>\n",
       "      <td>0</td>\n",
       "      <td>0.416574</td>\n",
       "      <td>0.500271</td>\n",
       "      <td>0</td>\n",
       "      <td>0.049915</td>\n",
       "      <td>0.281329</td>\n",
       "      <td>-0.672045</td>\n",
       "    </tr>\n",
       "  </tbody>\n",
       "</table>\n",
       "</div>"
      ],
      "text/plain": [
       "   Time_spent_Alone  Stage_fear  Social_event_attendance  Going_outside  \\\n",
       "0         -0.143788           0                 0.019907       1.350613   \n",
       "1          1.309119           1                -1.371160      -1.350613   \n",
       "2          1.309119           1                -1.023393      -0.450204   \n",
       "3         -1.306113           0                 0.715440       1.800817   \n",
       "4         -0.434369           0                 1.758740       0.450204   \n",
       "\n",
       "   Drained_after_socializing  Friends_circle_size  Post_frequency  \\\n",
       "0                          0             1.596787        0.500271   \n",
       "1                          1            -1.471766       -0.190744   \n",
       "2                          1            -0.291553       -0.536251   \n",
       "3                          0             1.832829        1.536793   \n",
       "4                          0             0.416574        0.500271   \n",
       "\n",
       "   Personality  social_alone_ratio  friends_and_posts  drained_by_social  \n",
       "0            0           -0.288607           1.028065          -0.672045  \n",
       "1            1           -0.830243          -0.913449          -0.672045  \n",
       "2            1           -0.748998          -0.614755           0.261351  \n",
       "3            0            2.690389           2.431930          -0.672045  \n",
       "4            0            0.049915           0.281329          -0.672045  "
      ]
     },
     "execution_count": 20,
     "metadata": {},
     "output_type": "execute_result"
    }
   ],
   "source": [
    "# Definisikan semua kolom numerik, termasuk yang baru\n",
    "all_numerical_col = numerical_col + ['social_alone_ratio', 'friends_and_posts', 'drained_by_social']\n",
    "    \n",
    "# Normalisasi fitur numerik menggunakan StandardScaler\n",
    "scaler = StandardScaler()\n",
    "df[all_numerical_col] = scaler.fit_transform(df[all_numerical_col])\n",
    "\n",
    "# Tampilkan 5 baris pertama setelah normalisasi\n",
    "df.head()"
   ]
  },
  {
   "cell_type": "markdown",
   "metadata": {},
   "source": [
    "### Menyimpan dataset"
   ]
  },
  {
   "cell_type": "code",
   "execution_count": 21,
   "metadata": {},
   "outputs": [
    {
     "name": "stdout",
     "output_type": "stream",
     "text": [
      "\n",
      "Dataset berhasil disimpan sebagai 'personality_dataset_preprocessing.csv'\n"
     ]
    }
   ],
   "source": [
    "df.to_csv('personality_dataset_preprocessing.csv', index=False)\n",
    "print(\"\\nDataset berhasil disimpan sebagai 'personality_dataset_preprocessing.csv'\")"
   ]
  },
  {
   "cell_type": "code",
   "execution_count": null,
   "metadata": {},
   "outputs": [],
   "source": []
  }
 ],
 "metadata": {
  "accelerator": "GPU",
  "colab": {
   "gpuType": "T4",
   "provenance": []
  },
  "kernelspec": {
   "display_name": "base",
   "language": "python",
   "name": "python3"
  },
  "language_info": {
   "codemirror_mode": {
    "name": "ipython",
    "version": 3
   },
   "file_extension": ".py",
   "mimetype": "text/x-python",
   "name": "python",
   "nbconvert_exporter": "python",
   "pygments_lexer": "ipython3",
   "version": "3.12.7"
  }
 },
 "nbformat": 4,
 "nbformat_minor": 0
}
